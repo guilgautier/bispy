{
 "cells": [
  {
   "cell_type": "code",
   "execution_count": null,
   "metadata": {},
   "outputs": [],
   "source": [
    "%pylab inline\n",
    "import quaternion  # load the quaternion module\n",
    "\n",
    "# if BiSPy is not located in your python module directory\n",
    "# import sys\n",
    "# sys.path.append('/BiSPy_location_path/')\n",
    "import bispy as bsp"
   ]
  },
  {
   "cell_type": "code",
   "execution_count": null,
   "metadata": {},
   "outputs": [],
   "source": [
    "N = 1024 # length of the signal\n",
    "\n",
    "# linear chirps constants\n",
    "a = 250*np.pi\n",
    "b = 50*np.pi\n",
    "c = 150*np.pi"
   ]
  },
  {
   "cell_type": "code",
   "execution_count": null,
   "metadata": {},
   "outputs": [],
   "source": [
    "# time vector\n",
    "t = np.linspace(0, 1, N)\n",
    "\n",
    "# first chirp\n",
    "theta1 = np.pi/4 # constant orientation\n",
    "chi1 = np.pi/6-t # reversing ellipticity\n",
    "phi1 = b*t+a*t**2 # linear chirp\n",
    "\n",
    "# second chirp\n",
    "theta2 = np.pi/4*10*t # rotating orientation\n",
    "chi2 = 0 # constant null ellipticity\n",
    "phi2 = c*t+a*t**2 # linear chirp\n",
    "\n",
    "# common amplitude -- simply a window\n",
    "env = bsp.utils.windows.hanning(N)"
   ]
  },
  {
   "cell_type": "code",
   "execution_count": null,
   "metadata": {},
   "outputs": [],
   "source": [
    "# define chirps x1 and x2\n",
    "x1 = bsp.utils.bivariateAMFM(env, theta1, chi1, phi1)\n",
    "x2 = bsp.utils.bivariateAMFM(env, theta2, chi2, phi2)\n",
    "\n",
    "# sum it\n",
    "x = x1 + x2"
   ]
  },
  {
   "cell_type": "code",
   "execution_count": null,
   "metadata": {},
   "outputs": [],
   "source": [
    "fig, ax = bsp.utils.visual.plot3D(t, x)"
   ]
  }
 ],
 "metadata": {
  "anaconda-cloud": {},
  "kernelspec": {
   "display_name": "Python [conda root]",
   "language": "python",
   "name": "conda-root-py"
  },
  "language_info": {
   "codemirror_mode": {
    "name": "ipython",
    "version": 3
   },
   "file_extension": ".py",
   "mimetype": "text/x-python",
   "name": "python",
   "nbconvert_exporter": "python",
   "pygments_lexer": "ipython3",
   "version": "3.5.2"
  }
 },
 "nbformat": 4,
 "nbformat_minor": 2
}
